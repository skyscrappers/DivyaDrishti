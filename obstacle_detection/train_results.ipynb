{
 "cells": [
  {
   "cell_type": "code",
   "execution_count": 1,
   "metadata": {},
   "outputs": [
    {
     "name": "stderr",
     "output_type": "stream",
     "text": [
      "2024-11-18 20:24:45.713284: I tensorflow/core/util/port.cc:153] oneDNN custom operations are on. You may see slightly different numerical results due to floating-point round-off errors from different computation orders. To turn them off, set the environment variable `TF_ENABLE_ONEDNN_OPTS=0`.\n",
      "2024-11-18 20:24:45.964374: E external/local_xla/xla/stream_executor/cuda/cuda_fft.cc:485] Unable to register cuFFT factory: Attempting to register factory for plugin cuFFT when one has already been registered\n",
      "2024-11-18 20:24:46.049859: E external/local_xla/xla/stream_executor/cuda/cuda_dnn.cc:8454] Unable to register cuDNN factory: Attempting to register factory for plugin cuDNN when one has already been registered\n",
      "2024-11-18 20:24:46.075260: E external/local_xla/xla/stream_executor/cuda/cuda_blas.cc:1452] Unable to register cuBLAS factory: Attempting to register factory for plugin cuBLAS when one has already been registered\n",
      "2024-11-18 20:24:46.253500: I tensorflow/core/platform/cpu_feature_guard.cc:210] This TensorFlow binary is optimized to use available CPU instructions in performance-critical operations.\n",
      "To enable the following instructions: AVX2 AVX512F AVX512_VNNI FMA, in other operations, rebuild TensorFlow with the appropriate compiler flags.\n",
      "2024-11-18 20:24:47.479450: W tensorflow/compiler/tf2tensorrt/utils/py_utils.cc:38] TF-TRT Warning: Could not find TensorRT\n"
     ]
    },
    {
     "name": "stdout",
     "output_type": "stream",
     "text": [
      "_SignatureMap({'serving_default': <ConcreteFunction (*, sequential_5_input: TensorSpec(shape=(None, 224, 224, 3), dtype=tf.float32, name='sequential_5_input')) -> Dict[['sequential_7', TensorSpec(shape=(None, 2), dtype=tf.float32, name='sequential_7')]] at 0x7BE056547550>})\n",
      "Signature Name: serving_default\n",
      "Inputs: ((), {'sequential_5_input': TensorSpec(shape=(None, 224, 224, 3), dtype=tf.float32, name='sequential_5_input')})\n",
      "Outputs: {'sequential_7': TensorSpec(shape=(None, 2), dtype=tf.float32, name='sequential_7')}\n"
     ]
    }
   ],
   "source": [
    "import tensorflow as tf\n",
    "import numpy as np\n",
    "from PIL import Image\n",
    "\n",
    "# Load the saved model\n",
    "model = tf.saved_model.load('model.savedmodel')\n",
    "print(model.signatures)\n",
    "for name in model.signatures:\n",
    "    print(f\"Signature Name: {name}\")\n",
    "    signature = model.signatures[name]\n",
    "    print(f\"Inputs: {signature.structured_input_signature}\")\n",
    "    print(f\"Outputs: {signature.structured_outputs}\")"
   ]
  },
  {
   "cell_type": "code",
   "execution_count": 2,
   "metadata": {},
   "outputs": [
    {
     "name": "stdout",
     "output_type": "stream",
     "text": [
      "((), {'sequential_5_input': TensorSpec(shape=(None, 224, 224, 3), dtype=tf.float32, name='sequential_5_input')})\n"
     ]
    },
    {
     "name": "stderr",
     "output_type": "stream",
     "text": [
      "WARNING: All log messages before absl::InitializeLog() is called are written to STDERR\n",
      "I0000 00:00:1731941696.090550 1825918 devices.cc:67] Number of eligible GPUs (core count >= 8, compute capability >= 0.0): 0\n",
      "2024-11-18 20:24:56.090752: I tensorflow/core/grappler/clusters/single_machine.cc:361] Starting new session\n"
     ]
    }
   ],
   "source": [
    "import tensorflow as tf\n",
    "from tensorflow.python.framework.convert_to_constants import convert_variables_to_constants_v2\n",
    "\n",
    "loaded = tf.saved_model.load('model.savedmodel')  \n",
    "infer = loaded.signatures['serving_default']\n",
    "print(infer.structured_input_signature)\n",
    "f = tf.function(infer).get_concrete_function(sequential_5_input=tf.TensorSpec(shape=[None, 224, 224, 3], dtype=tf.float32))\n",
    "\n",
    "f2 = convert_variables_to_constants_v2(f)\n",
    "graph_def = f2.graph.as_graph_def()\n",
    "\n",
    "with tf.io.gfile.GFile('frozen_graph.pb', 'wb') as f:\n",
    "    f.write(graph_def.SerializeToString())"
   ]
  },
  {
   "cell_type": "code",
   "execution_count": 3,
   "metadata": {},
   "outputs": [
    {
     "name": "stderr",
     "output_type": "stream",
     "text": [
      "100%|██████████| 82/82 [00:05<00:00, 15.25it/s]\n",
      "100%|██████████| 87/87 [00:04<00:00, 17.41it/s]\n"
     ]
    }
   ],
   "source": [
    "import numpy as np\n",
    "import cv2 as cv\n",
    "import os\n",
    "import time\n",
    "from tqdm import tqdm\n",
    "net = cv.dnn.readNet('frozen_graph.pb')\n",
    "\n",
    "def load_and_preprocess_image(image_path):\n",
    "    img = cv.imread(image_path)\n",
    "    img = cv.resize(img, (224, 224))\n",
    "    img = cv.cvtColor(img, cv.COLOR_BGR2RGB)\n",
    "    img = img / 255.0 \n",
    "    img = np.transpose(img, (2, 0, 1))  \n",
    "    img = np.expand_dims(img, axis=0) \n",
    "    return img.astype(np.float32)\n",
    "\n",
    "dir1 = 'Class 0-samples'  \n",
    "dir2 = 'Class 1-samples'\n",
    "\n",
    "labels = []\n",
    "inference_times = []\n",
    "predicted = []\n",
    "\n",
    "for class_dir, label in [(dir1, 0), (dir2, 1)]:\n",
    "    for image_file in tqdm(os.listdir(class_dir)):\n",
    "        if image_file.endswith('.jpg'):\n",
    "            image_path = os.path.join(class_dir, image_file)\n",
    "            labels.append(label)\n",
    "\n",
    "            inp = load_and_preprocess_image(image_path)\n",
    "\n",
    "            start_time = time.time()\n",
    "            net.setInput(inp)\n",
    "            out = net.forward()\n",
    "            end_time = time.time()\n",
    "\n",
    "            probabilities = out[0]\n",
    "            predicted_class = np.argmax(probabilities)\n",
    "\n",
    "            inference_times.append(end_time - start_time)\n",
    "            predicted.append(predicted_class)\n",
    "\n",
    "            # print(f'Image: {image_path}')\n",
    "            # print(f'Predicted Class: {predicted_class}, Probability: {probabilities[predicted_class]:.4f}')\n"
   ]
  },
  {
   "cell_type": "code",
   "execution_count": 4,
   "metadata": {},
   "outputs": [
    {
     "name": "stdout",
     "output_type": "stream",
     "text": [
      "Accuracy: 0.9401\n",
      "Total Inference Time: 0.4231 seconds\n",
      "Average Inference Time: 0.0025 seconds\n",
      "False Negative Rate: 0.0805\n",
      "Recall: 0.9195\n"
     ]
    }
   ],
   "source": [
    "\n",
    "accuracy = sum([1 if p == l else 0 for p, l in zip(predicted, labels)]) / len(labels)\n",
    "print(f'Accuracy: {accuracy:.4f}')\n",
    "total_inference_time = sum(inference_times)\n",
    "average_inference_time = total_inference_time / len(inference_times)\n",
    "print(f'Total Inference Time: {total_inference_time:.4f} seconds')\n",
    "print(f'Average Inference Time: {average_inference_time:.4f} seconds')\n",
    "false_negatives = sum([1 for p, l in zip(predicted, labels) if p == 0 and l == 1])\n",
    "actual_positives = sum([1 for l in labels if l == 1])\n",
    "\n",
    "false_negative_rate = false_negatives / actual_positives if actual_positives > 0 else 0\n",
    "print(f'False Negative Rate: {false_negative_rate:.4f}')\n",
    "true_positives = sum([1 for p, l in zip(predicted, labels) if p == 1 and l == 1])\n",
    "\n",
    "recall = true_positives / actual_positives if actual_positives > 0 else 0\n",
    "print(f'Recall: {recall:.4f}')\n"
   ]
  },
  {
   "cell_type": "code",
   "execution_count": 5,
   "metadata": {},
   "outputs": [
    {
     "name": "stdout",
     "output_type": "stream",
     "text": [
      "Confusion Matrix:\n",
      "[[77  3]\n",
      " [ 7 80]]\n"
     ]
    },
    {
     "data": {
      "image/png": "[encoded data removed]",
      "text/plain": [
       "<Figure size 500x400 with 2 Axes>"
      ]
     },
     "metadata": {},
     "output_type": "display_data"
    }
   ],
   "source": [
    "from sklearn.metrics import confusion_matrix\n",
    "import seaborn as sns\n",
    "import matplotlib.pyplot as plt\n",
    "\n",
    "cm = confusion_matrix(labels, predicted)\n",
    "\n",
    "print(\"Confusion Matrix:\")\n",
    "print(cm)\n",
    "\n",
    "plt.figure(figsize=(5,4))\n",
    "sns.heatmap(cm, annot=True, fmt='d', cmap='Blues', xticklabels=[0, 1], yticklabels=[0, 1])\n",
    "plt.ylabel('Actual Label')\n",
    "plt.xlabel('Predicted Label')\n",
    "plt.title('Confusion Matrix for Train Set')\n",
    "plt.show()"
   ]
  }
 ],
 "metadata": {
  "kernelspec": {
   "display_name": "base",
   "language": "python",
   "name": "python3"
  },
  "language_info": {
   "codemirror_mode": {
    "name": "ipython",
    "version": 3
   },
   "file_extension": ".py",
   "mimetype": "text/x-python",
   "name": "python",
   "nbconvert_exporter": "python",
   "pygments_lexer": "ipython3",
   "version": "3.11.5"
  }
 },
 "nbformat": 4,
 "nbformat_minor": 2
}
